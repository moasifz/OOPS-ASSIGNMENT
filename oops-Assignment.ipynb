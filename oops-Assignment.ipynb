{
  "metadata": {
    "kernelspec": {
      "name": "python",
      "display_name": "Python (Pyodide)",
      "language": "python"
    },
    "language_info": {
      "codemirror_mode": {
        "name": "python",
        "version": 3
      },
      "file_extension": ".py",
      "mimetype": "text/x-python",
      "name": "python",
      "nbconvert_exporter": "python",
      "pygments_lexer": "ipython3",
      "version": "3.8"
    }
  },
  "nbformat_minor": 4,
  "nbformat": 4,
  "cells": [
    {
      "cell_type": "code",
      "source": "#Q-1 What are the five key concepts of object-oriented programming (oop)?\n#ANS- The five key concepts of object-oriented programming (oop) are.\n#1-Enscapsulation: It involves bundling data(attributes) and methods(functions) that operate on the data into a single unit known as class.this concept also involves restricting access to some of an object components.\n#2-Abstraction: It is the process of simplifying complex systems by modelling classes based on the essential properties and behaviours an object should have while hiding the unnecessary dtails.\n#3-Inheritance: It allows a new class to inherit attributes and methods from an existing class.This promotes code reusability and establishes a natural hierarchy between classes based on a more general one,allowing for the extension and customization of existing behaviour.\n#4-Polymorphism: It means \"many forms\" and refers to ability of different objects to respond each in it's own way,to the same message .there are two types of polymorphism,1-compile time and run time polymorphism.\n#5-Inheritance: I've mentioned inheritance already,but it's crucial to emphasize it.Inheritance not only facilitates code reuse but also creates a natural hierarchy between classes.this allows for more specific and specialized subclasses to be built upon general,more abstract base classes.",
      "metadata": {
        "trusted": true
      },
      "outputs": [],
      "execution_count": 1
    },
    {
      "cell_type": "code",
      "source": "#Q-2 Write a python class for a 'car' with attributes for 'make','model', and 'year'.Include a method to display the car's information.\n#ANS-\nclass Car:\n    def __init__(self,make,model,year):\n       self.make=make\n       self.model=model\n       self.year=year\n\n    def info(self):\n        print(f\"this car is {self.make} , {self.model} and {self.year}\")\n\nInfo=Car('Hyundai', \"Creta\",2001)\n\nInfo.info()",
      "metadata": {
        "trusted": true
      },
      "outputs": [
        {
          "name": "stdout",
          "text": "this car is Hyundai , Creta and 2001\n",
          "output_type": "stream"
        }
      ],
      "execution_count": 3
    },
    {
      "cell_type": "code",
      "source": "#Q-3 Explain the difference between instance methods and class method.Provide an example of each.\n#ANS- The instance method are most common method use in python class.It take {self} as their first parameter.\n#Example:\nclass Car:\n    def __init__ (self,make,model,year):\n        self.make=make\n        self.model=model\n        self.year=year\n\n    def info(self):\n        print(f\"this car is {self.make} , {self.model} and {self.year}\")\n\nInfo=Car('Hyundai',\"Creta\",2005)\n\nInfo.info()\n\n#class method \n\nclass student:\n    total_students=0\n    def __init__ (self,name):\n        self.name=name\n        student.total_students+=1\n\n        @classmethod\n        def get_total_student(cls):\n            return cls.total_students\n        @staticmethod\n        def course_details (course_name):\n            print(\"outer\",course_name)\n\nstud = Student('Asif')\nprint(stud.total_students)\nprint(Student.get_total_students())\nStudent.course_details(\"Mathematics\")",
      "metadata": {
        "trusted": true
      },
      "outputs": [
        {
          "name": "stdout",
          "text": "this car is Hyundai , Creta and 2005\n",
          "output_type": "stream"
        },
        {
          "ename": "<class 'NameError'>",
          "evalue": "name 'Students' is not defined",
          "traceback": [
            "\u001b[0;31m---------------------------------------------------------------------------\u001b[0m",
            "\u001b[0;31mNameError\u001b[0m                                 Traceback (most recent call last)",
            "Cell \u001b[0;32mIn[23], line 32\u001b[0m\n\u001b[1;32m     28\u001b[0m         \u001b[38;5;129m@staticmethod\u001b[39m\n\u001b[1;32m     29\u001b[0m         \u001b[38;5;28;01mdef\u001b[39;00m \u001b[38;5;21mcourse_details\u001b[39m (course_name):\n\u001b[1;32m     30\u001b[0m             \u001b[38;5;28mprint\u001b[39m(\u001b[38;5;124m\"\u001b[39m\u001b[38;5;124mouter\u001b[39m\u001b[38;5;124m\"\u001b[39m,course_name)\n\u001b[0;32m---> 32\u001b[0m stud \u001b[38;5;241m=\u001b[39m \u001b[43mStudents\u001b[49m(\u001b[38;5;124m'\u001b[39m\u001b[38;5;124mAsif\u001b[39m\u001b[38;5;124m'\u001b[39m)\n\u001b[1;32m     33\u001b[0m \u001b[38;5;28mprint\u001b[39m(stud\u001b[38;5;241m.\u001b[39mtotal_students)\n\u001b[1;32m     34\u001b[0m \u001b[38;5;28mprint\u001b[39m(Students\u001b[38;5;241m.\u001b[39mget_total_students())\n",
            "\u001b[0;31mNameError\u001b[0m: name 'Students' is not defined"
          ],
          "output_type": "error"
        }
      ],
      "execution_count": 23
    },
    {
      "cell_type": "code",
      "source": "#Q-4-How python implement method overloading? Give an exapmle.\n#ANS-python doesn't support overloading,but we have using default arguements.\nclass equation:\n    def addition(self,a,b=None,c=None):\n        if b is None and c is None:\n            return a\n        elif c is None:\n            return a+b\n        else :\n            return a+b+c\n\nequa=equation()\nequa.addition(1)\nprint(equa.addition(1))\nprint(equa.addition(1,3))\nprint(equa.addition(1,5,8))",
      "metadata": {
        "trusted": true
      },
      "outputs": [
        {
          "name": "stdout",
          "text": "1\n4\n14\n",
          "output_type": "stream"
        }
      ],
      "execution_count": 11
    },
    {
      "cell_type": "code",
      "source": "#Q-5 What are the three types of access modifiers in python? How are they denoted.\n#ANS-The three types of access modifiers in python-(private),(public),(protective).\n#private and public\nclass student:\n    def __init__ (self,name,date):\n        self.name=name # this is public\n        self.__date=date # this is private\n\n    def show(self):\n        print('name',self.name,'date',self.__date)\n\n# protected\n\nclass collage:\n    def __init__(self):\n        self._collage_name='pw'\n\ncollage_obj = collage()\nprint(collage_obj._collage_name)",
      "metadata": {
        "trusted": true
      },
      "outputs": [
        {
          "name": "stdout",
          "text": "pw\n",
          "output_type": "stream"
        }
      ],
      "execution_count": 15
    },
    {
      "cell_type": "code",
      "source": "#Q-6 Describe the five types of inheritance in python.provide a simple example of multiple inheritance.\n#ANS- The five types of inheritance in python are [single inheritance],[multi-level inheritance],[multiple inheritance],[hierarchical inheritance] and [hybrid inheritance].\n#1-single inheritance-when a derived class has only one parent.\nclass parent:\n    def __init__(self):\n        print(\"i am  parent\")\nclass child (parent):\n    def __init__(self):\n        print(\"i am child\")\n\na=child()\n\n#2- multi level inheritance-when a derived class inherits from another derived class.\nclass vehicle:\n    def __init__(self):\n        print('basic vehicle')\n\nclass car(vehicle):\n    def __init__(self):\n        super().__init__()\n        print(\"car\")\n\nclass sportscar(car):\n    def __init__(self):\n        super().__init__()\n        print('sport car')\n\nsport=sportscar()\n\n#3 multi level-when a derived class inherits from more than one parent class.\n\nclass parent1:\n    def method (self):\n        print('father')\n\nclass parent2:\n    def method2 (self):\n        print('mother')\n\nclass child(parent1,parent2):\n    def method2(self):\n        print('child')\n\na=child()\na.method()\n\n#4 hierarchical inheritance\n\nclass vehicle:\n    def info(self,name):\n        print('first')\n\nclass car:\n    def info(self,name):\n        print('second')\n\nclass truck:\n    def info(self,name):\n        print('truck')\n\na=car()\nb=truck()\na.info('a')\n\n#5 Hybrid inheritance- multiple types or combination of different inheritance.\n\nclass a:\n    def method(self):\n        print('a')\n\nclass b:\n    def method(self):\n        print(\"b\")\n\nclass c (a):\n    def method(self):\n        print('c')\nclass d (c,b):\n    pass\n    ",
      "metadata": {
        "trusted": true
      },
      "outputs": [
        {
          "name": "stdout",
          "text": "i am child\nbasic vehicle\ncar\nsport car\nfather\nsecond\n",
          "output_type": "stream"
        }
      ],
      "execution_count": 28
    },
    {
      "cell_type": "code",
      "source": "#Q-7 What is the method resolution order(MRO) in python? How can you retieve it programatically.\n#ANS- The method resolution order (MRO) in python is the sequence in python looks for method in a hierarachy class.\n#Examaple\nclass a:\n    def method(self):\n        print('inheritant from a class')\n\nclass b:\n    def method(self):\n        print('inheritant from b class')\n\nclass c(b,a): # in this case c was print\n    def last(self):\n        pass\ncall=c()\ncall.method()",
      "metadata": {
        "trusted": true
      },
      "outputs": [
        {
          "name": "stdout",
          "text": "inheritant from b class\n",
          "output_type": "stream"
        }
      ],
      "execution_count": 29
    },
    {
      "cell_type": "code",
      "source": "#Q-8-Create an abstract class 'shape' with an abstract 'area'().thencreate two subclasses 'circle' and 'rectangle' that implement the 'area'() method.\n#ANS-\nfrom abc import ABC, abstractmethod\nimport math\n\nclass shape(ABC):\n    @abstractmethod\n    def area (self):\n        pass\n# sub class (Circle)\n\nclass circle(shape):\n    def __init__ (self,radius):\n        self.radius=radius\n\n    def area(self):\n        return math.pi * self.radius ** 2\n\n# sub class (rectangle)\n\nclass rectangle(shape):\n    def __init__(self,width,length):\n        self.width=width\n        self.length=length\n\n    def area(self):\n        return self.length*self.width\n\nCircle=circle(66)\nRectangle=rectangle(23,24)\n\nprint(f\" circle {Circle.area()}\")\nprint(f\" rectangle {Rectangle.area()}\")",
      "metadata": {
        "trusted": true
      },
      "outputs": [
        {
          "name": "stdout",
          "text": " circle 13684.77759903714\n rectangle 552\n",
          "output_type": "stream"
        }
      ],
      "execution_count": 31
    },
    {
      "cell_type": "code",
      "source": "#Q-9 Demonstrate polymorphism by creating a function that can work with different shape objects to calculate and print their areas.\n#ANS-\n# demonstrate polymorphism\ndef print_arae(shape):\n    print(f\"Area: {shape.area()}\")\n\nCircle = circle(578)\nRectangle = rectangle(423, 6479)\n\nprint_area(Circle)\nprint_area(rectangle)",
      "metadata": {
        "trusted": true
      },
      "outputs": [
        {
          "ename": "<class 'NameError'>",
          "evalue": "name 'circle' is not defined",
          "traceback": [
            "\u001b[0;31m---------------------------------------------------------------------------\u001b[0m",
            "\u001b[0;31mNameError\u001b[0m                                 Traceback (most recent call last)",
            "Cell \u001b[0;32mIn[3], line 7\u001b[0m\n\u001b[1;32m      4\u001b[0m \u001b[38;5;28;01mdef\u001b[39;00m \u001b[38;5;21mprint_arae\u001b[39m(shape):\n\u001b[1;32m      5\u001b[0m     \u001b[38;5;28mprint\u001b[39m(\u001b[38;5;124mf\u001b[39m\u001b[38;5;124m\"\u001b[39m\u001b[38;5;124mArea: \u001b[39m\u001b[38;5;132;01m{\u001b[39;00mshape\u001b[38;5;241m.\u001b[39marea()\u001b[38;5;132;01m}\u001b[39;00m\u001b[38;5;124m\"\u001b[39m)\n\u001b[0;32m----> 7\u001b[0m Circle \u001b[38;5;241m=\u001b[39m \u001b[43mcircle\u001b[49m(\u001b[38;5;241m578\u001b[39m)\n\u001b[1;32m      8\u001b[0m Rectangle \u001b[38;5;241m=\u001b[39m rectangle(\u001b[38;5;241m423\u001b[39m, \u001b[38;5;241m6479\u001b[39m)\n\u001b[1;32m     10\u001b[0m print_area(Circle)\n",
            "\u001b[0;31mNameError\u001b[0m: name 'circle' is not defined"
          ],
          "output_type": "error"
        }
      ],
      "execution_count": 3
    },
    {
      "cell_type": "code",
      "source": "#Q-10 Implement enscapsulation in a 'Bankaccount' class with private attributes for 'balance' and 'account_number'.Include methods for deposit,withdrawl, and balance inquiry.\n#ANS-\nclass Bankaccount:\n    def __init__(self, account_number, initial_balance=0):\n        self.__acc_number = account_number\n        self.__balane = initial_balance\n\n    def deposit(self, amount):\n        if amount > 0:\n            self.__balance += amount\n            print(f\"Deposited: {amount}\")\n        else:\n            print(\"Deposit amount must be positive.\")\n\n    def withdraw(self, amoumt):\n        if 0 < amount <= self.__balance:\n            self.__balance -= amount\n            print(f\"Withdrew: {amount}\")\n        else:\n            print(\"Invalid withdrawl amount.\")\n\n    def get_balance(self):\n        return self.__balance\n\n    def get_account_number(self):\n        return self.__account_number",
      "metadata": {
        "trusted": true
      },
      "outputs": [],
      "execution_count": 8
    },
    {
      "cell_type": "code",
      "source": "account = BankAccount(\"1234556\", 1000)\naccount.deposit(500)\naccount.withdraw(300)\nprint(f\"Balance: {account.get_balance()}\")                     ",
      "metadata": {
        "trusted": true
      },
      "outputs": [],
      "execution_count": null
    },
    {
      "cell_type": "code",
      "source": "#Q-11 Write a class that overrides the '__str__' and '__add__' magic methods.what will these methods allow you to do.\n#ANS- \nclass Number:\n    def __init__(self,value):\n        self.value = value\n\n#overriding the str method\n    def __str__(self):\n        return f\"the number {self.value}\"\n\n#overriding the add mrthod.\n    def __add__(self,other):\n        return Number(self.Value+other.value)\n\nnum1=Number(12323)\nnum2=Number(12)\nprint(num1)\nresult= num1+num2\nprint(num2)",
      "metadata": {
        "trusted": true
      },
      "outputs": [
        {
          "name": "stdout",
          "text": "the number 12323\n",
          "output_type": "stream"
        },
        {
          "ename": "<class 'AttributeError'>",
          "evalue": "'Number' object has no attribute 'Value'",
          "traceback": [
            "\u001b[0;31m---------------------------------------------------------------------------\u001b[0m",
            "\u001b[0;31mAttributeError\u001b[0m                            Traceback (most recent call last)",
            "Cell \u001b[0;32mIn[13], line 18\u001b[0m\n\u001b[1;32m     16\u001b[0m num2\u001b[38;5;241m=\u001b[39mNumber(\u001b[38;5;241m12\u001b[39m)\n\u001b[1;32m     17\u001b[0m \u001b[38;5;28mprint\u001b[39m(num1)\n\u001b[0;32m---> 18\u001b[0m result\u001b[38;5;241m=\u001b[39m \u001b[43mnum1\u001b[49m\u001b[38;5;241;43m+\u001b[39;49m\u001b[43mnum2\u001b[49m\n\u001b[1;32m     19\u001b[0m \u001b[38;5;28mprint\u001b[39m(num2)\n",
            "Cell \u001b[0;32mIn[13], line 13\u001b[0m, in \u001b[0;36mNumber.__add__\u001b[0;34m(self, other)\u001b[0m\n\u001b[1;32m     12\u001b[0m \u001b[38;5;28;01mdef\u001b[39;00m \u001b[38;5;21m__add__\u001b[39m(\u001b[38;5;28mself\u001b[39m,other):\n\u001b[0;32m---> 13\u001b[0m     \u001b[38;5;28;01mreturn\u001b[39;00m Number(\u001b[38;5;28;43mself\u001b[39;49m\u001b[38;5;241;43m.\u001b[39;49m\u001b[43mValue\u001b[49m\u001b[38;5;241m+\u001b[39mother\u001b[38;5;241m.\u001b[39mvalue)\n",
            "\u001b[0;31mAttributeError\u001b[0m: 'Number' object has no attribute 'Value'"
          ],
          "output_type": "error"
        }
      ],
      "execution_count": 13
    },
    {
      "cell_type": "code",
      "source": "#Q-12 Create a decorator that measures and prints the execution time of a function.\n#ANS-\nimport time\n\ndef measure_time(func):\n    def wrapper():\n        start_time=time.time()\n        func()\n        end_time=time.time()\n        print (f\"execution time: {end_time-start_time:.6f}\")\n    return wrapper\n # using decorator\n@measure_time\ndef new_func():\n    time.sleep(2)\n\nnew_func()",
      "metadata": {
        "trusted": true
      },
      "outputs": [
        {
          "name": "stdout",
          "text": "execution time: 2.001000\n",
          "output_type": "stream"
        }
      ],
      "execution_count": 14
    },
    {
      "cell_type": "code",
      "source": "#Q-13-Explain the concept of  the diamond problem in multiple inheritance.how does python resolve it?\n#ANS- Diamond problem its occur when a class inherits from 2 or more 2 classes which will lead to ambiguity in execution of methods.\nclass A:\n    def method(self):\n        print(\"Method from A\")\n\nclass B(A):\n    def method(self):\n        print(\"Method from B\")\n\nclass C(A):\n    def method(self):\n        print(\"Method from C\")\n\nclass D(B, C):\n    pass\n\n\n\nd = D()\nd.method()\n              \n\n        ",
      "metadata": {
        "trusted": true
      },
      "outputs": [
        {
          "name": "stdout",
          "text": "Method from B\n",
          "output_type": "stream"
        }
      ],
      "execution_count": 15
    },
    {
      "cell_type": "code",
      "source": "print(D.mro())",
      "metadata": {
        "trusted": true
      },
      "outputs": [
        {
          "name": "stdout",
          "text": "[<class '__main__.D'>, <class '__main__.B'>, <class '__main__.C'>, <class '__main__.A'>, <class 'object'>]\n",
          "output_type": "stream"
        }
      ],
      "execution_count": 16
    },
    {
      "cell_type": "code",
      "source": "#Q-14 Write a class method that keeps trackof the number of instances created from a class.\n#ANS-\nclass myclass():\n    instances_count=0\n\n    def __init__(self):\n        myclass.instances_count+=1\n\n    @classmethod\n    def get_count(cls):\n        return cls.instances_count\n\n\none=myclass()\ntwo=myclass()\nthree=myclass()\n\nprint(myclass.get_count())",
      "metadata": {
        "trusted": true
      },
      "outputs": [
        {
          "name": "stdout",
          "text": "3\n",
          "output_type": "stream"
        }
      ],
      "execution_count": 17
    },
    {
      "cell_type": "code",
      "source": "#Q-15-Implement a static method in a class that checks if a given year is a leap year.\n#ANS-\nclass yearchecker:\n    @staticmethod\n    def is_leapyear(year):\n        if(year%4==0 and year %100!=0) or (year%400==0):\n            return True\n        else:\n            False",
      "metadata": {
        "trusted": true
      },
      "outputs": [],
      "execution_count": null
    }
  ]
}